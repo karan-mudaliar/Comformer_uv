{
 "cells": [
  {
   "cell_type": "code",
   "execution_count": 3,
   "metadata": {},
   "outputs": [],
   "source": [
    "import pandas as pd\n",
    "import numpy as np\n",
    "from pymatgen.core.structure import Structure"
   ]
  },
  {
   "cell_type": "code",
   "execution_count": null,
   "metadata": {},
   "outputs": [],
   "source": [
    "# Load the original DFT data\n",
    "df = pd.read_csv('../data/DFT_data.csv')\n",
    "\n",
    "# Create a new column called 'flipped' and set it to empty string for original data\n",
    "df['flipped'] = ''\n",
    "\n",
    "# Check the first few rows\n",
    "df.head()"
   ]
  },
  {
   "cell_type": "code",
   "execution_count": null,
   "metadata": {},
   "outputs": [],
   "source": [
    "# Define function to flip the slab structure\n",
    "def flip_slab(struct_dict):\n",
    "    # Convert dict to pymatgen Structure\n",
    "    structure = Structure.from_dict(struct_dict)\n",
    "    \n",
    "    # Flip the structure (mirror along z-axis)\n",
    "    # Get the maximum z coordinate\n",
    "    max_z = max([site.coords[2] for site in structure])\n",
    "    \n",
    "    # Create a new structure with flipped z coordinates\n",
    "    flipped_structure = structure.copy()\n",
    "    for i, site in enumerate(flipped_structure):\n",
    "        # Reflect the z coordinate: new_z = max_z - (z - 0)\n",
    "        x, y, z = site.coords\n",
    "        flipped_structure[i] = site.species, [x, y, max_z - z]\n",
    "    \n",
    "    return flipped_structure.as_dict()"
   ]
  },
  {
   "cell_type": "code",
   "execution_count": null,
   "metadata": {},
   "outputs": [],
   "source": [
    "# Create a duplicate dataframe for the flipped structures\n",
    "df_flipped = df.copy()\n",
    "\n",
    "# Set the flipped flag to 'flipped' string\n",
    "df_flipped['flipped'] = 'flipped'\n",
    "\n",
    "# Apply the flip operation to each slab structure\n",
    "df_flipped['slab'] = df_flipped['slab'].apply(eval).apply(flip_slab).apply(str)\n",
    "\n",
    "# Swap top and bottom work functions\n",
    "df_flipped['WF_temp'] = df_flipped['WF_top']\n",
    "df_flipped['WF_top'] = df_flipped['WF_bottom']\n",
    "df_flipped['WF_bottom'] = df_flipped['WF_temp']\n",
    "df_flipped = df_flipped.drop('WF_temp', axis=1)\n",
    "\n",
    "# Note: cleavage_energy stays the same"
   ]
  },
  {
   "cell_type": "code",
   "execution_count": null,
   "metadata": {},
   "outputs": [],
   "source": [
    "# Concatenate the original and flipped dataframes\n",
    "df_augmented = pd.concat([df, df_flipped], ignore_index=True)\n",
    "\n",
    "# Examine the results\n",
    "print(f\"Original data size: {len(df)}\")\n",
    "print(f\"Augmented data size: {len(df_augmented)}\")\n",
    "df_augmented.head()"
   ]
  },
  {
   "cell_type": "code",
   "execution_count": null,
   "metadata": {},
   "outputs": [],
   "source": [
    "# Save the augmented dataset\n",
    "df_augmented.to_csv('../data/DFT_data_augmented.csv', index=False)\n",
    "print(\"Saved augmented dataset to ../data/DFT_data_augmented.csv\")"
   ]
  }
 ],
 "metadata": {
  "language_info": {
   "name": "python"
  }
 },
 "nbformat": 4,
 "nbformat_minor": 2
}
