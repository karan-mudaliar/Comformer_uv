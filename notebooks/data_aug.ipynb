{
 "cells": [
  {
   "cell_type": "code",
   "metadata": {
    "vscode": {
     "languageId": "plaintext"
    }
   },
   "outputs": [],
   "source": "import pandas as pd\nimport numpy as np\nfrom pymatgen.core.structure import Structure"
  },
  {
   "cell_type": "code",
   "metadata": {
    "vscode": {
     "languageId": "plaintext"
    }
   },
   "outputs": [],
   "source": "# Load the original DFT data\ndf = pd.read_csv('../data/DFT_data.csv')\n\n# Create a new column called 'flipped' and set it to 0 for original data\ndf['flipped'] = 0\n\n# Check the first few rows\ndf.head()"
  },
  {
   "cell_type": "code",
   "source": "# Define function to flip the slab structure\ndef flip_slab(struct_dict):\n    # Convert dict to pymatgen Structure\n    structure = Structure.from_dict(struct_dict)\n    \n    # Flip the structure (mirror along z-axis)\n    # Get the maximum z coordinate\n    max_z = max([site.coords[2] for site in structure])\n    \n    # Create a new structure with flipped z coordinates\n    flipped_structure = structure.copy()\n    for i, site in enumerate(flipped_structure):\n        # Reflect the z coordinate: new_z = max_z - (z - 0)\n        x, y, z = site.coords\n        flipped_structure[i] = site.species, [x, y, max_z - z]\n    \n    return flipped_structure.as_dict()",
   "metadata": {},
   "outputs": []
  },
  {
   "cell_type": "code",
   "source": "# Create a duplicate dataframe for the flipped structures\ndf_flipped = df.copy()\n\n# Set the flipped flag to 1\ndf_flipped['flipped'] = 1\n\n# Apply the flip operation to each slab structure\ndf_flipped['slab'] = df_flipped['slab'].apply(eval).apply(flip_slab).apply(str)\n\n# Swap top and bottom work functions\ndf_flipped['WF_temp'] = df_flipped['WF_top']\ndf_flipped['WF_top'] = df_flipped['WF_bottom']\ndf_flipped['WF_bottom'] = df_flipped['WF_temp']\ndf_flipped = df_flipped.drop('WF_temp', axis=1)\n\n# Note: cleavage_energy stays the same",
   "metadata": {},
   "outputs": []
  },
  {
   "cell_type": "code",
   "source": "# Concatenate the original and flipped dataframes\ndf_augmented = pd.concat([df, df_flipped], ignore_index=True)\n\n# Examine the results\nprint(f\"Original data size: {len(df)}\")\nprint(f\"Augmented data size: {len(df_augmented)}\")\ndf_augmented.head()",
   "metadata": {},
   "outputs": []
  },
  {
   "cell_type": "code",
   "source": "# Save the augmented dataset\ndf_augmented.to_csv('../data/DFT_data_augmented.csv', index=False)\nprint(\"Saved augmented dataset to ../data/DFT_data_augmented.csv\")",
   "metadata": {},
   "outputs": []
  }
 ],
 "metadata": {
  "language_info": {
   "name": "python"
  }
 },
 "nbformat": 4,
 "nbformat_minor": 2
}