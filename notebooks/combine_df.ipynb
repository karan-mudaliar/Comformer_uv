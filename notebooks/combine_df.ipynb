{
 "cells": [
  {
   "cell_type": "code",
   "execution_count": 1,
   "id": "d74f1f8b",
   "metadata": {},
   "outputs": [],
   "source": [
    "import pandas as pd"
   ]
  },
  {
   "cell_type": "code",
   "execution_count": 2,
   "id": "cab95b9a",
   "metadata": {},
   "outputs": [],
   "source": [
    "# Load the three CSV files\n",
    "train_df = pd.read_csv('/Users/karan_mudaliar/Downloads/WF-CE-Splits/structureid_test/WF-CE-splits.structureid-val_structureid-test_0.7-0.2-0.1.train.csv')\n",
    "val_df = pd.read_csv('/Users/karan_mudaliar/Downloads/WF-CE-Splits/structureid_test/WF-CE-splits.structureid-val_structureid-test_0.7-0.2-0.1.validation.csv')\n",
    "test_df = pd.read_csv('/Users/karan_mudaliar/Downloads/WF-CE-Splits/structureid_test/WF-CE-splits.structureid-val_structureid-test_0.7-0.2-0.1.test.csv')"
   ]
  },
  {
   "cell_type": "code",
   "execution_count": 3,
   "id": "516c5edd",
   "metadata": {},
   "outputs": [],
   "source": [
    "# Add the 'split' column\n",
    "train_df['split'] = 'train'\n",
    "val_df['split'] = 'val'\n",
    "test_df['split'] = 'test'"
   ]
  },
  {
   "cell_type": "code",
   "execution_count": 4,
   "id": "d0a6a0a7",
   "metadata": {},
   "outputs": [],
   "source": [
    "combined_df = pd.concat([train_df, val_df, test_df], ignore_index=True)\n",
    "\n",
    "# Save to a new CSV file\n",
    "combined_df.to_csv('/Users/karan_mudaliar/Downloads/WF-CE-Splits/structureid_test/combined_structureid.csv', index=False)"
   ]
  },
  {
   "cell_type": "code",
   "execution_count": null,
   "id": "7b0e98b3",
   "metadata": {},
   "outputs": [],
   "source": []
  }
 ],
 "metadata": {
  "kernelspec": {
   "display_name": "env_pytorch",
   "language": "python",
   "name": "python3"
  },
  "language_info": {
   "codemirror_mode": {
    "name": "ipython",
    "version": 3
   },
   "file_extension": ".py",
   "mimetype": "text/x-python",
   "name": "python",
   "nbconvert_exporter": "python",
   "pygments_lexer": "ipython3",
   "version": "3.9.18"
  }
 },
 "nbformat": 4,
 "nbformat_minor": 5
}
