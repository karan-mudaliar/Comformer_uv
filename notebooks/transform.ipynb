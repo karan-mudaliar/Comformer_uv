{
 "cells": [
  {
   "cell_type": "code",
   "execution_count": 1,
   "metadata": {},
   "outputs": [],
   "source": [
    "from tqdm import tqdm\n",
    "from jarvis.db.figshare import data as jdata\n",
    "from jarvis.core.atoms import Atoms,  pmg_to_atoms\n",
    "import pandas as pd\n",
    "from pymatgen.core import Structure\n",
    "from pymatgen.io.vasp.inputs import Poscar\n",
    "import sys\n",
    "import ast\n",
    "import json"
   ]
  },
  {
   "cell_type": "code",
   "execution_count": 2,
   "metadata": {},
   "outputs": [
    {
     "name": "stdout",
     "output_type": "stream",
     "text": [
      "Obtaining 3D dataset 76k ...\n",
      "Reference:https://www.nature.com/articles/s41524-020-00440-1\n",
      "Other versions:https://doi.org/10.6084/m9.figshare.6815699\n",
      "Loading the zipfile...\n",
      "Loading completed.\n"
     ]
    }
   ],
   "source": [
    "dft_3d = jdata(\"dft_3d\")\n",
    "prop = \"optb88vdw_bandgap\""
   ]
  },
  {
   "cell_type": "code",
   "execution_count": 3,
   "metadata": {},
   "outputs": [
    {
     "data": {
      "text/plain": [
       "75993"
      ]
     },
     "execution_count": 3,
     "metadata": {},
     "output_type": "execute_result"
    }
   ],
   "source": [
    "len(dft_3d)"
   ]
  },
  {
   "cell_type": "code",
   "execution_count": 4,
   "metadata": {},
   "outputs": [
    {
     "data": {
      "text/plain": [
       "list"
      ]
     },
     "execution_count": 4,
     "metadata": {},
     "output_type": "execute_result"
    }
   ],
   "source": [
    "type(dft_3d)"
   ]
  },
  {
   "cell_type": "code",
   "execution_count": null,
   "metadata": {},
   "outputs": [],
   "source": [
    "dft_3d[1]"
   ]
  },
  {
   "cell_type": "code",
   "execution_count": null,
   "metadata": {},
   "outputs": [],
   "source": [
    "max_samples = 1\n",
    "f = open(\"id_prop.csv\", \"w\")\n",
    "count = 0\n",
    "for i in dft_3d:\n",
    "    atoms = Atoms.from_dict(i[\"atoms\"])\n",
    "    print(type(atoms))\n",
    "    print(atoms)\n",
    "    jid = i[\"jid\"]\n",
    "    poscar_name = \"POSCAR-\" + jid + \".vasp\"\n",
    "    target = i[prop]\n",
    "    if target != \"na\":\n",
    "        atoms.write_poscar(poscar_name)\n",
    "        f.write(\"%s,%6f\\n\" % (poscar_name, target))\n",
    "        count += 1\n",
    "        if count == max_samples:\n",
    "            break\n",
    "f.close()"
   ]
  },
  {
   "cell_type": "code",
   "execution_count": 4,
   "metadata": {},
   "outputs": [],
   "source": [
    "df = pd.read_csv('/home/mudaliar.k/github/comformer_uv/data/surface_prop_data_set_top_bottom.csv')"
   ]
  },
  {
   "cell_type": "code",
   "execution_count": 5,
   "metadata": {},
   "outputs": [
    {
     "data": {
      "text/plain": [
       "36852"
      ]
     },
     "execution_count": 5,
     "metadata": {},
     "output_type": "execute_result"
    }
   ],
   "source": [
    "len(df)"
   ]
  },
  {
   "cell_type": "code",
   "execution_count": null,
   "metadata": {},
   "outputs": [],
   "source": [
    "row = df.iloc[0]\n",
    "df.head(1)"
   ]
  },
  {
   "cell_type": "code",
   "execution_count": null,
   "metadata": {},
   "outputs": [],
   "source": [
    "df.dtypes"
   ]
  },
  {
   "cell_type": "code",
   "execution_count": null,
   "metadata": {},
   "outputs": [],
   "source": [
    "row['slab']"
   ]
  },
  {
   "cell_type": "code",
   "execution_count": null,
   "metadata": {},
   "outputs": [],
   "source": [
    "struc = Structure.from_dict(ast.literal_eval(row['slab']))\n",
    "type(struc)"
   ]
  },
  {
   "cell_type": "code",
   "execution_count": null,
   "metadata": {},
   "outputs": [],
   "source": [
    "jarvis_atoms = pmg_to_atoms(struc)  \n",
    "print(type(jarvis_atoms))\n",
    "print(jarvis_atoms)"
   ]
  },
  {
   "cell_type": "code",
   "execution_count": null,
   "metadata": {},
   "outputs": [],
   "source": [
    "sys.path.append('/home/mudaliar.k/github/comformer_uv')\n",
    "\n",
    "import imp\n",
    "import random\n",
    "from pathlib import Path\n",
    "from typing import Optional\n",
    "\n",
    "import os\n",
    "import torch\n",
    "import numpy as np\n",
    "import pandas as pd\n",
    "from jarvis.core.atoms import Atoms\n",
    "from comformer.graphs import PygGraph, PygStructureDataset\n",
    "from jarvis.db.figshare import data as jdata\n",
    "from torch.utils.data import DataLoader\n",
    "from tqdm import tqdm\n",
    "import math\n",
    "from jarvis.db.jsonutils import dumpjson\n",
    "from pandarallel import pandarallel\n",
    "pandarallel.initialize(progress_bar=True)\n",
    "# from sklearn.pipeline import Pipeline\n",
    "import pickle as pk\n",
    "from sklearn.preprocessing import StandardScaler\n",
    "# use pandas progress_apply\n",
    "\n",
    "\n",
    "\n",
    "def load_dataset(\n",
    "    name: str = \"dft_3d\",\n",
    "    target=None,\n",
    "    limit: Optional[int] = None,\n",
    "    classification_threshold: Optional[float] = None,\n",
    "):\n",
    "    \"\"\"Load jarvis data.\"\"\"\n",
    "    d = jdata(name)\n",
    "    data = []\n",
    "    for i in d:\n",
    "        if i[target] != \"na\" and not math.isnan(i[target]):\n",
    "            if classification_threshold is not None:\n",
    "                if i[target] <= classification_threshold:\n",
    "                    i[target] = 0\n",
    "                elif i[target] > classification_threshold:\n",
    "                    i[target] = 1\n",
    "                else:\n",
    "                    raise ValueError(\n",
    "                        \"Check classification data type.\",\n",
    "                        i[target],\n",
    "                        type(i[target]),\n",
    "                    )\n",
    "            data.append(i)\n",
    "    d = data\n",
    "    if limit is not None:\n",
    "        d = d[:limit]\n",
    "    d = pd.DataFrame(d)\n",
    "    return d\n",
    "\n",
    "def load_dataset_D2R2(\n",
    "    name: str = \"D2R2_surface_data\", \n",
    "    data_path: str = \"/home/mudaliar.k/github/comformer_uv/data/surface_database_for_GNN.csv\",\n",
    "    target=None,\n",
    "    limit: Optional[int] = None,\n",
    "    classification_threshold: Optional[float] = None,\n",
    "):\n",
    "    \"\"\"Load jarvis data.\"\"\"\n",
    "    df = pd.read_csv(data_path, on_bad_lines=\"skip\")\n",
    "    if limit is not None:\n",
    "        df = df[:limit]\n",
    "        \n",
    "    df[\"jid\"] = df[\"mpid\"].astype(str) + \"_\" + df[\"miller_index\"].astype(str) + \"_\" + df[\"term\"].astype(str)\n",
    "\n",
    "    return df\n",
    "\n",
    "\n",
    "def mean_absolute_deviation(data, axis=None):\n",
    "    \"\"\"Get Mean absolute deviation.\"\"\"\n",
    "    return np.mean(np.absolute(data - np.mean(data, axis)), axis)\n",
    "\n",
    "def load_pyg_graphs(\n",
    "    df: pd.DataFrame,\n",
    "    name: str = \"dft_3d\",\n",
    "    neighbor_strategy: str = \"k-nearest\",\n",
    "    cutoff: float = 8,\n",
    "    max_neighbors: int = 12,\n",
    "    cachedir: Optional[Path] = None,\n",
    "    use_canonize: bool = False,\n",
    "    use_lattice: bool = False,\n",
    "    use_angle: bool = False,\n",
    "):\n",
    "    \"\"\"Construct crystal graphs.\n",
    "\n",
    "    Load only atomic number node features\n",
    "    and bond displacement vector edge features.\n",
    "\n",
    "    Resulting graphs have scheme e.g.\n",
    "    ```\n",
    "    Graph(num_nodes=12, num_edges=156,\n",
    "          ndata_schemes={'atom_features': Scheme(shape=(1,)}\n",
    "          edata_schemes={'r': Scheme(shape=(3,)})\n",
    "    ```\n",
    "    \"\"\"\n",
    "    def atoms_to_graph(atoms):\n",
    "        \"\"\"Convert structure dict to DGLGraph.\"\"\"\n",
    "        # structure = Atoms.from_dict(atoms)\n",
    "        structure = pmg_to_atoms(Structure.from_dict(ast.literal_eval(atoms)))\n",
    "        return PygGraph.atom_dgl_multigraph(\n",
    "            structure,\n",
    "            neighbor_strategy=neighbor_strategy,\n",
    "            cutoff=cutoff,\n",
    "            atom_features=\"atomic_number\",\n",
    "            max_neighbors=max_neighbors,\n",
    "            compute_line_graph=False,\n",
    "            use_canonize=use_canonize,\n",
    "            use_lattice=use_lattice,\n",
    "            use_angle=use_angle,\n",
    "        )\n",
    "    \n",
    "    graphs = df[\"slab\"].parallel_apply(atoms_to_graph).values \n",
    "    # graphs = df[\"atoms\"].apply(atoms_to_graph).values\n",
    "\n",
    "    return graphs"
   ]
  },
  {
   "cell_type": "code",
   "execution_count": null,
   "metadata": {},
   "outputs": [],
   "source": [
    "df = load_dataset(target=\"optb88vdw_bandgap\", limit = 10)\n",
    "df.head()"
   ]
  },
  {
   "cell_type": "code",
   "execution_count": null,
   "metadata": {},
   "outputs": [],
   "source": [
    "df_d2r2 = load_dataset_D2R2()\n",
    "df_d2r2.head()"
   ]
  },
  {
   "cell_type": "code",
   "execution_count": null,
   "metadata": {},
   "outputs": [],
   "source": [
    "len(df_d2r2)"
   ]
  },
  {
   "cell_type": "code",
   "execution_count": null,
   "metadata": {},
   "outputs": [],
   "source": [
    "graphs = load_pyg_graphs(df_d2r2)"
   ]
  },
  {
   "cell_type": "code",
   "execution_count": null,
   "metadata": {},
   "outputs": [],
   "source": [
    "graphs"
   ]
  },
  {
   "cell_type": "code",
   "execution_count": null,
   "metadata": {},
   "outputs": [],
   "source": []
  }
 ],
 "metadata": {
  "kernelspec": {
   "display_name": "comformer",
   "language": "python",
   "name": "python3"
  },
  "language_info": {
   "codemirror_mode": {
    "name": "ipython",
    "version": 3
   },
   "file_extension": ".py",
   "mimetype": "text/x-python",
   "name": "python",
   "nbconvert_exporter": "python",
   "pygments_lexer": "ipython3",
   "version": "3.10.16"
  }
 },
 "nbformat": 4,
 "nbformat_minor": 2
}
